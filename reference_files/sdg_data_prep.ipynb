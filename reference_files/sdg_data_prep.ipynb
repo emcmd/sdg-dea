{
 "cells": [
  {
   "cell_type": "code",
   "execution_count": 351,
   "metadata": {},
   "outputs": [],
   "source": [
    "import pandas as pd\n",
    "from pandas import ExcelWriter\n",
    "import matplotlib.pyplot as plt"
   ]
  },
  {
   "cell_type": "code",
   "execution_count": 352,
   "metadata": {},
   "outputs": [],
   "source": [
    "# import the data\n",
    "sdg_in = pd.read_excel('SDG-DEA_indicators_V3_20200428.xlsx',\n",
    "                       sheet_name='SDG-DEA FINAL',\n",
    "                       header=4,\n",
    "                       index_col=0,\n",
    "                       usecols='B,T:DQ',\n",
    "                       skiprows=[5]\n",
    "                       )\n",
    "\n",
    "dir_sdg_in = pd.read_excel('SDG-DEA_indicators_V3_20200428.xlsx',\n",
    "                             sheet_name='SDG-DEA FINAL',\n",
    "                             usecols='T:DQ',\n",
    "                             nrows=2,\n",
    "                             skiprows=[0,1],\n",
    "                             header=None\n",
    "                             )"
   ]
  },
  {
   "cell_type": "code",
   "execution_count": 353,
   "metadata": {},
   "outputs": [],
   "source": [
    "# prepare the data\n",
    "\n",
    "# make a copy to be able to repeat operations without reloading from excel (we're dropping stuff)\n",
    "inds = sdg_in.copy()\n",
    "\n",
    "# cutoff for missing data (i.e. we keep if fewer than [cutoff] are missing)\n",
    "cutoff = 0.5\n",
    "\n",
    "# find countries missing more than [cutoff] indicators\n",
    "miss_cnt_perc = (inds.isna().sum(axis=1)/inds.shape[1])\n",
    "drop_bool = miss_cnt_perc >= cutoff\n",
    "drop_cnt = drop_bool[drop_bool].index\n",
    "\n",
    "# find indicators missing more than [cutoff] countries\n",
    "miss_ind_perc = (inds.isna().sum(axis=0)/inds.shape[0])\n",
    "drop_bool = miss_ind_perc >= cutoff\n",
    "drop_ind = drop_bool[drop_bool].index\n",
    "\n",
    "# drop countries and indicators missing the cutoff\n",
    "inds.drop(labels = drop_cnt, inplace=True)\n",
    "inds.drop(columns = drop_ind, inplace=True)\n",
    "\n",
    "# fill remaining missing values with indicator means\n",
    "inds.fillna(inds.mean(axis=0), inplace=True)\n",
    "\n",
    "\n",
    "# modify direction and sdg data\n",
    "dir_sdg = dir_sdg_in.copy()\n",
    "dir_sdg.index = ['direction','sdg']\n",
    "dir_sdg = dir_sdg.fillna(method='ffill', axis=1)\n",
    "dir_sdg.columns = sdg_in.columns\n",
    "dir_sdg.drop(columns = drop_ind, inplace=True)"
   ]
  },
  {
   "cell_type": "code",
   "execution_count": 390,
   "metadata": {
    "collapsed": true
   },
   "outputs": [
    {
     "name": "stdout",
     "output_type": "stream",
     "text": [
      "Index(['sdg1_wpc', 'sdg1_320pov', 'sdg1_11_13_affected', 'sdg2_undernsh',\n",
      "       'sdg2_stunting', 'sdg2_wasting', 'sdg2_obesity', 'sdg2_nue',\n",
      "       'sdg2_trophic', 'sdg3_matmort', 'sdg3_neonat', 'sdg3_u5mort', 'sdg3_tb',\n",
      "       'sdg3_malaria', 'sdg3_hiv', 'sdg3_ncds', 'sdg3_suicide', 'sdg3_alcohol',\n",
      "       'sdg3_pollmort', 'sdg3_traffic', 'sdg3_fertility', 'sdg6_freshwat',\n",
      "       'sdg6_gwd', 'sdg7_enerintensity', 'sdg7_co2twh', 'sdg8_slavery',\n",
      "       'sdg16_clabor', 'sdg8_unemp', 'sdg8_impacc', 'sdg10_adjgini',\n",
      "       'sdg10_fsi3', 'sdg10_fsi4', 'sdg10_fsi7', 'sdg10_refugees',\n",
      "       'sdg11_pm25', 'sdg1_11_13_affected.1', 'sdg12_msw', 'sdg12_ewaste',\n",
      "       'sdg12_prodso2', 'sdg12_so2', 'sdg12_prodnitro', 'sdg12_reacnitro',\n",
      "       'sdg13_co2pc', 'sdg13_co2import', 'sdg13_affected',\n",
      "       'sdg1_11_13_affected.2', 'sdg13_co2export', 'sdg14_fishstocks',\n",
      "       'sdg14_trawl', 'sdg15_forchg', 'sdg15_impbiothr', 'sdg16_homicides',\n",
      "       'sdg16_detain', 'sdg16_weaponsexp', 'sdg16_rsf', 'sdg17_taxhaven',\n",
      "       'sdg17_remittance'],\n",
      "      dtype='object')\n",
      "Index(['sdg17_govex', 'sdg2_crlyld', 'sdg3_lifee', 'sdg3_births', 'sdg3_vac',\n",
      "       'sdg3_uhc', 'sdg3_swb', 'sdg4_primary', 'sdg4_second', 'sdg4_literacy',\n",
      "       'sdg5_familypl', 'sdg5_edat', 'sdg5_lfpr', 'sdg5_parl', 'sdg6_water',\n",
      "       'sdg6_sanita', 'sdg6_wastewat', 'sdg7_elecac', 'sdg7_cleanfuel',\n",
      "       'sdg7_renew', 'sdg8_adjgrowth', 'sdg8_accounts', 'sdg9_mobuse',\n",
      "       'sdg9_lpi', 'sdg9_qs', 'sdg9_articles', 'sdg9_rdex', 'sdg10_fsi2',\n",
      "       'sdg10_fsi5', 'sdg10_fsi6', 'sdg11_pipedwat', 'sdg11_transport',\n",
      "       'sdg14_cpma', 'sdg14_cleanwat', 'sdg15_cpta', 'sdg15_cpfa',\n",
      "       'sdg15_redlist', 'sdg15_forest', 'sdg16_safe', 'sdg16_prs',\n",
      "       'sdg16_u5reg', 'sdg16_cpi', 'sdg9_intuse', 'sdg17_govrevGDP'],\n",
      "      dtype='object')\n"
     ]
    }
   ],
   "source": [
    "# export to excel file, 1x all sdgs, 1x for each sdg\n",
    "\n",
    "sheets = ['all',*dir_sdg.loc['sdg',:].unique()]\n",
    "dummy = pd.DataFrame([1]*len(inds.index), index=inds.index, columns=['dummy']) # dummy column to use if no inputs or outputs exist for an SDG\n",
    "\n",
    "with ExcelWriter('sdg_gms_input.xlsx') as writer:\n",
    "    \n",
    "    for s in sheets:\n",
    "        \n",
    "        # one sheet for all sdgs, then one sheet for each sdg\n",
    "        if s == 'all':\n",
    "            cols_in = dir_sdg.columns[dir_sdg.loc['direction',:] == -1]\n",
    "            cols_out = dir_sdg.columns[dir_sdg.loc['direction',:] == 1]\n",
    "        else:\n",
    "            cols_in = dir_sdg.columns[(dir_sdg.loc['direction',:] == -1) & (dir_sdg.loc['sdg'] == s)]\n",
    "            cols_out = dir_sdg.columns[(dir_sdg.loc['direction',:] == 1) & (dir_sdg.loc['sdg'] == s)]\n",
    "            \n",
    "        # if no inputs exist, add dummy input\n",
    "        if len(cols_in) == 0:\n",
    "            dummy.to_excel(writer,sheet_name=s, startrow=0)\n",
    "        else:\n",
    "            inds[cols_in].to_excel(writer,sheet_name=s, startrow=0)\n",
    "        \n",
    "        # if no outputs exist, write dummy output\n",
    "        if len(cols_out) == 0:\n",
    "            dummy.to_excel(writer,sheet_name=s, startrow=inds.shape[0]+2)\n",
    "        else:\n",
    "            inds[cols_out].to_excel(writer,sheet_name=s, startrow=inds.shape[0]+2)\n",
    "\n",
    "    writer.save()"
   ]
  }
 ],
 "metadata": {
  "kernelspec": {
   "display_name": "Python 3",
   "language": "python",
   "name": "python3"
  },
  "language_info": {
   "codemirror_mode": {
    "name": "ipython",
    "version": 3
   },
   "file_extension": ".py",
   "mimetype": "text/x-python",
   "name": "python",
   "nbconvert_exporter": "python",
   "pygments_lexer": "ipython3",
   "version": "3.7.3"
  }
 },
 "nbformat": 4,
 "nbformat_minor": 2
}
