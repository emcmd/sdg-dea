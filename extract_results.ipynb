{
 "cells": [
  {
   "cell_type": "code",
   "execution_count": 10,
   "metadata": {},
   "outputs": [],
   "source": [
    "import pandas as pd\n",
    "from pathlib import Path"
   ]
  },
  {
   "cell_type": "code",
   "execution_count": 20,
   "metadata": {},
   "outputs": [],
   "source": [
    "n_sdg = 17\n",
    "sdg_strings = [''.join(('sdg',str(ii))) for ii in range(1,n_sdg+1)]\n",
    "# folders = [d for d in Path('analysis_data').iterdir() if d.is_dir() and 'gams_output_files' in str(d)]\n",
    "folders = [Path('analysis_data/gams_output_files - io')]"
   ]
  },
  {
   "cell_type": "code",
   "execution_count": 21,
   "metadata": {
    "tags": []
   },
   "outputs": [],
   "source": [
    "# load all results\n",
    "all_res = {}\n",
    "for f in folders:\n",
    "    orient = str(f).split(' - ')[1]\n",
    "    all_res[orient] = {}\n",
    "    paths = [ii for ii in f.glob('sdg*')]\n",
    "    sdg_strings = [os.path.basename(ii).split('_')[0] for ii in paths]\n",
    "    for pp, ss in zip(paths, sdg_strings):\n",
    "    # for s in sdg_strings:\n",
    "        #  path = list(f.glob('_'.join((s,'*'))))[0]\n",
    "         all_res[orient][ss] = pd.read_csv(pp, sep='\\t', index_col=0)"
   ]
  },
  {
   "cell_type": "code",
   "execution_count": 23,
   "metadata": {},
   "outputs": [],
   "source": [
    "# save slacks in excel files\n",
    "for orient in all_res.keys():\n",
    "    path = Path('analysis_data')/''.join(('slacks_', orient, '.xlsx'))\n",
    "    writer = pd.ExcelWriter(path, engine='xlsxwriter')\n",
    "    for s in all_res[orient].keys():\n",
    "        n_countries = all_res[orient][s].shape[0]\n",
    "        all_res[orient][s].iloc[:,1:-n_countries].to_excel(writer, sheet_name=s)\n",
    "    writer.save()"
   ]
  },
  {
   "cell_type": "code",
   "execution_count": 24,
   "metadata": {},
   "outputs": [],
   "source": [
    "# save lambdas in excel files\n",
    "for orient in all_res.keys():\n",
    "    path = Path('analysis_data')/''.join(('lambdas_', orient, '.xlsx'))\n",
    "    writer = pd.ExcelWriter(path, engine='xlsxwriter')\n",
    "    for s in all_res[orient].keys():\n",
    "        n_countries = all_res[orient][s].shape[0]\n",
    "        all_res[orient][s].iloc[:,-n_countries:].to_excel(writer, sheet_name=s)\n",
    "    writer.save()"
   ]
  },
  {
   "cell_type": "code",
   "execution_count": 25,
   "metadata": {},
   "outputs": [],
   "source": [
    "# save efficiencies in csv files\n",
    "for orient in all_res.keys():\n",
    "    path = Path('analysis_data')/''.join(('eff_', orient, '.csv'))\n",
    "    eff_df = pd.concat((all_res[orient][s]['eff'] for s in sdg_strings), axis=1) # read and concat\n",
    "    eff_df.columns = sdg_strings\n",
    "    eff_df.to_csv(path)\n"
   ]
  },
  {
   "cell_type": "code",
   "execution_count": null,
   "metadata": {},
   "outputs": [],
   "source": []
  }
 ],
 "metadata": {
  "language_info": {
   "codemirror_mode": {
    "name": "ipython",
    "version": 3
   },
   "file_extension": ".py",
   "mimetype": "text/x-python",
   "name": "python",
   "nbconvert_exporter": "python",
   "pygments_lexer": "ipython3",
   "version": "3.8.3-final"
  },
  "orig_nbformat": 2,
  "kernelspec": {
   "name": "python3",
   "display_name": "Python 3"
  }
 },
 "nbformat": 4,
 "nbformat_minor": 2
}