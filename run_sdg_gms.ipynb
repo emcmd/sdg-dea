{
 "cells": [
  {
   "cell_type": "code",
   "execution_count": 7,
   "metadata": {},
   "outputs": [],
   "source": [
    "import subprocess\n",
    "from pathlib import Path"
   ]
  },
  {
   "cell_type": "code",
   "execution_count": 11,
   "metadata": {},
   "outputs": [],
   "source": [
    "# number of sdgs to consider1\n",
    "n_sdg = 17\n",
    "sdg_strings = [''.join(('sdg',str(ii))) for ii in range(1,n_sdg+1)]\n",
    "# sdg_strings = ['sdg1', 'sdg2', 'sdg3', 'sdg4']"
   ]
  },
  {
   "cell_type": "code",
   "execution_count": 12,
   "metadata": {
    "tags": []
   },
   "outputs": [
    {
     "output_type": "stream",
     "name": "stdout",
     "text": [
      "sdg1 completed\n",
      "sdg2 completed\n",
      "sdg3 completed\n",
      "sdg4 completed\n",
      "sdg5 completed\n",
      "sdg6 completed\n",
      "sdg7 completed\n",
      "sdg8 completed\n",
      "sdg9 completed\n",
      "sdg10 completed\n",
      "sdg11 completed\n",
      "sdg12 completed\n",
      "sdg13 completed\n",
      "sdg14 completed\n",
      "sdg15 completed\n",
      "sdg16 completed\n",
      "sdg17 completed\n"
     ]
    }
   ],
   "source": [
    "# orientation of model\n",
    "orient = 'input'\n",
    "\n",
    "# create gams files to run each sdg\n",
    "with open('sdg_dea_uo.gms', 'rt') as fin:\n",
    "\n",
    "    # loop over sdgs\n",
    "    for s in sdg_strings:\n",
    "\n",
    "        # open new file for this sdg\n",
    "        runfile_path = Path('gams_run_files/{0}.gms'.format(s))\n",
    "        with open(runfile_path, 'wt') as fout:\n",
    "            \n",
    "            # replace sdg0 with sdgN in each line, and switch to input-oriented model if necessary\n",
    "            for line in fin:\n",
    "                lout = line.replace('sdg0', s)\n",
    "                if orient == 'input':\n",
    "                    lout = lout.replace('io = 0;', 'io = 1;')\n",
    "                \n",
    "                fout.write(lout)\n",
    "                                \n",
    "        # run it        \n",
    "        subprocess.run(['gams', str(runfile_path), 'o=Nul'])\n",
    "        \n",
    "        # need to reset pointer in fin to beginning of file to repeat\n",
    "        fin.seek(0)\n",
    "        print(s,'completed')"
   ]
  },
  {
   "cell_type": "code",
   "execution_count": null,
   "metadata": {},
   "outputs": [],
   "source": []
  },
  {
   "cell_type": "code",
   "execution_count": null,
   "metadata": {},
   "outputs": [],
   "source": []
  },
  {
   "cell_type": "code",
   "execution_count": null,
   "metadata": {},
   "outputs": [],
   "source": []
  }
 ],
 "metadata": {
  "kernelspec": {
   "display_name": "Python 3",
   "language": "python",
   "name": "python3"
  },
  "language_info": {
   "codemirror_mode": {
    "name": "ipython",
    "version": 3
   },
   "file_extension": ".py",
   "mimetype": "text/x-python",
   "name": "python",
   "nbconvert_exporter": "python",
   "pygments_lexer": "ipython3",
   "version": "3.8.3-final"
  }
 },
 "nbformat": 4,
 "nbformat_minor": 2
}