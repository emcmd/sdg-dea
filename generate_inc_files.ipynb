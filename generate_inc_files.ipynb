{
 "cells": [
  {
   "cell_type": "code",
   "execution_count": 3,
   "metadata": {},
   "outputs": [],
   "source": [
    "import pandas as pd\n",
    "import numpy as np\n",
    "from pathlib import Path\n",
    "\n",
    "# import own functions\n",
    "from fill_and_map import map_econ_sdg, map_inds_sdg, fill_econ, fill_inds_trans, sep_inds"
   ]
  },
  {
   "cell_type": "code",
   "execution_count": 4,
   "metadata": {},
   "outputs": [
    {
     "output_type": "stream",
     "name": "stdout",
     "text": [
      "Removing countries with >=20.0% missing indicator values:\n AND    0.588235\nATG    0.392157\nBHR    0.245098\nBHS    0.313725\nBRB    0.235294\nBRN    0.235294\nCPV    0.215686\nCUB    0.245098\nDMA    0.480392\nERI    0.313725\nFSM    0.411765\nGNB    0.235294\nGNQ    0.294118\nGRD    0.460784\nKIR    0.450980\nKNA    0.549020\nLBY    0.294118\nLCA    0.323529\nLIE    0.735294\nMCO    0.696078\nMHL    0.529412\nNRU    0.617647\nPLW    0.578431\nPRK    0.323529\nSLB    0.205882\nSMR    0.627451\nSOM    0.254902\nSSD    0.343137\nSTP    0.254902\nSYC    0.284314\nSYR    0.245098\nTKM    0.254902\nTLS    0.245098\nTON    0.284314\nTUV    0.598039\nVCT    0.382353\nWSM    0.245098\ndtype: float64\n\nRemoving indicators with >=35.0% missing country values:\n sdg2_foodinsec_inv    0.487179\nsdg14_fishstocks      0.403846\ndtype: float64\n"
     ]
    }
   ],
   "source": [
    "# get data\n",
    "fpath = Path('data_raw/SDG-DEA_indicators_V5_20200708.xlsx')\n",
    "inds = fill_inds_trans(fpath)\n",
    "inds_econ = fill_econ(fpath)\n",
    "inds_map = map_inds_sdg(fpath)\n",
    "econ_map = map_econ_sdg(fpath)\n",
    "\n",
    "# match index of economic indicators to SDG indicators, since some countries were exluded due to missing data\n",
    "inds_econ = inds_econ.loc[inds.index, :]"
   ]
  },
  {
   "cell_type": "code",
   "execution_count": 5,
   "metadata": {},
   "outputs": [],
   "source": [
    "# # remove indicators we want to exclude from analysis\n",
    "# drop_inds = ['sdg17_govex', 'sdg10_fsi7']\n",
    "# inds = inds.drop(columns=drop_inds)\n",
    "# inds_map = {k:[ii for ii in v if ii not in drop_inds] for k, v in inds_map.items()}"
   ]
  },
  {
   "cell_type": "code",
   "execution_count": 6,
   "metadata": {},
   "outputs": [],
   "source": [
    "# # mapping for 4 SDGs with 4 COFOGs where we have good data\n",
    "# econ_map = {}\n",
    "# econ_map[1] = ['Expenditure_on_social_protection']\n",
    "# econ_map[2] = ['Expenditure_on_agriculture_fishing_forestry__hunting']\n",
    "# econ_map[3] = ['Expenditure_on_health']\n",
    "# econ_map[4] = ['Expenditure_on_education']"
   ]
  },
  {
   "cell_type": "code",
   "execution_count": 7,
   "metadata": {},
   "outputs": [],
   "source": [
    "# updated SDG - COFOC expenditure mapping for all countries, manual mapping:\n",
    "econ_map[4] = ['Expenditure_on_education']\n",
    "econ_map[5].extend(['Rest_of_COFOG_not_defined'])\n",
    "econ_map[9] = ['Rest_of_COFOG_not_defined']\n",
    "econ_map[10].extend(['Rest_of_COFOG_not_defined', 'Expenditure_on_education'])"
   ]
  },
  {
   "cell_type": "code",
   "execution_count": 8,
   "metadata": {},
   "outputs": [],
   "source": [
    "# # alternative economic indicators for countries with more complete data\n",
    "# inds_econ_alt = pd.read_csv(Path('data_raw/econ_alt.csv'), index_col=[0])\n",
    "# inds_econ_alt.insert(0, inds_econ.columns[0],inds_econ.iloc[:,0])\n",
    "# inds_econ = inds_econ_alt\n",
    "\n",
    "# # updated SDG - COFOG expenditure mapping for countries with more complete data\n",
    "# econ_map[2].extend(['Expenditure_on_social_protection'])\n",
    "# econ_map[4] = ['Expenditure_on_education']\n",
    "# econ_map[5] = ['Expenditure_on_economic_affairs', 'Expenditure_on_social_protection']\n",
    "# econ_map[6] = ['Expenditure_on_environment_protection', 'Expenditure_on_housing__community_amenities']\n",
    "# econ_map[7] = ['Expenditure_on_economic_affairs']\n",
    "# econ_map[8] = ['Expenditure_on_economic_affairs']\n",
    "# econ_map[9] = ['Expenditure_on_economic_affairs']\n",
    "# econ_map[10] = ['Expenditure_on_general_public_services', 'Expenditure_on_defense', 'Expenditure_on_public_order__safety', 'Expenditure_on_education', 'Expenditure_on_social_protection']\n",
    "# econ_map[11] = ['Expenditure_on_public_order__safety', 'Expenditure_on_housing__community_amenities', 'Expenditure_on_recreation_culture__religion']\n",
    "# econ_map[12] = ['Expenditure_on_economic_affairs', 'Expenditure_on_environment_protection']\n",
    "# econ_map[13] = ['Expenditure_on_economic_affairs', 'Expenditure_on_environment_protection']\n",
    "# econ_map[14] = ['Expenditure_on_economic_affairs', 'Expenditure_on_environment_protection']\n",
    "# econ_map[15] = ['Expenditure_on_economic_affairs', 'Expenditure_on_environment_protection']\n",
    "# econ_map[16] = ['Expenditure_on_general_public_services', 'Expenditure_on_defense', 'Expenditure_on_public_order__safety']\n",
    "# econ_map[17] = ['Expenditure_on_general_public_services']"
   ]
  },
  {
   "cell_type": "code",
   "execution_count": 9,
   "metadata": {
    "tags": []
   },
   "outputs": [],
   "source": [
    "# shorten cofog names\n",
    "# in mapping...\n",
    "for key in econ_map:\n",
    "    newnames = []\n",
    "    for ii in econ_map[key]:    \n",
    "        if ii != 'Rest_of_COFOG_not_defined':\n",
    "            newnames.append(ii.split('_')[2])\n",
    "        else:\n",
    "            newnames.append(ii.split('_')[0].lower())\n",
    "    econ_map[key] = newnames\n",
    "\n",
    "# ... and in econ data\n",
    "inds_econ.columns = [inds_econ.columns[0], \n",
    "                    *[ii.split('_')[2] for ii in inds_econ.columns[1:-1]], \n",
    "                    inds_econ.columns[-1].split('_')[0].lower()]"
   ]
  },
  {
   "cell_type": "code",
   "execution_count": 10,
   "metadata": {},
   "outputs": [],
   "source": [
    "# separate indicators which will be used as undesired outputs, or not be used at all\n",
    "skip_inds, undes_inds, use_inds = sep_inds()\n",
    "\n",
    "all_sdgs = range(1,18)\n",
    "gms_input_folder = Path('gams_data_input/')\n",
    "\n",
    "# define set for countries\n",
    "set_c = ', '.join((inds_econ.index))\n",
    "\n",
    "for sdg in all_sdgs:\n",
    "\n",
    "    # define sets for inputs and outputs\n",
    "    # set_i = econ_map[sdg]\n",
    "    set_i = '_'.join((econ_map[sdg])) # handle sum of multiple expenses as input\n",
    "    des_out = list(set(inds_map[sdg]) - set(undes_inds) - set(skip_inds)) # set operation to get desired outputs\n",
    "    undes_out = list(set(inds_map[sdg]) & set(undes_inds)) #  set operation to get undesired outputs\n",
    "\n",
    "    if len(des_out) > 0:\n",
    "        set_o = ', '.join(des_out)\n",
    "    else: # placeholder set if empty\n",
    "        set_o = 'dm'\n",
    "\n",
    "    if len(undes_out) > 0:\n",
    "        set_o_u = ', '.join(undes_out)\n",
    "    else: # placeholder set if empty\n",
    "        set_o_u = 'dm'\n",
    "\n",
    "    # write sets to .inc file\n",
    "    with open(gms_input_folder / 'sets_sdg{0}.inc'.format(sdg), 'w') as text_file:\n",
    "        set_string = 'set c / {0} /;\\nset i / {1} /;\\nset o / {2} /;\\nset o_u / {3} /;'.format(set_c, set_i, set_o, set_o_u)\n",
    "        text_file.write(set_string)\n",
    "\n",
    "    # define parameters for inputs and outputs\n",
    "    # placeholder column to use if no outputs or undesired outputs exist for an SDG\n",
    "    dm = pd.DataFrame([1]*len(inds_econ.index), index=inds_econ.index, columns=['dm']) \n",
    "\n",
    "    # write inputs to .csv file\n",
    "    # inds_econ.loc[:,[econ_map[sdg]]].to_csv(gms_input_folder / 'inputs_sdg{0}.csv'.format(sdg))\n",
    "    inds_econ[[*econ_map[sdg]]].sum(axis=1).to_csv(gms_input_folder / 'inputs_sdg{0}.csv'.format(sdg), header=[set_i])\n",
    "\n",
    "    # write outputs to .csv file\n",
    "    if len(des_out) > 0:\n",
    "        inds.loc[inds_econ.index,des_out].to_csv(gms_input_folder / 'outputs_sdg{0}.csv'.format(sdg))\n",
    "    else:\n",
    "        dm.to_csv(gms_input_folder / 'outputs_sdg{0}.csv'.format(sdg))\n",
    "\n",
    "    # write undesired outputs to .csv file\n",
    "    if len(undes_out) > 0:\n",
    "        inds.loc[inds_econ.index,undes_out].to_csv(gms_input_folder / 'undes_outputs_sdg{0}.csv'.format(sdg))\n",
    "    else:\n",
    "        dm.to_csv(gms_input_folder / 'undes_outputs_sdg{0}.csv'.format(sdg))"
   ]
  }
 ],
 "metadata": {
  "kernelspec": {
   "display_name": "Python 3",
   "language": "python",
   "name": "python3"
  },
  "language_info": {
   "codemirror_mode": {
    "name": "ipython",
    "version": 3
   },
   "file_extension": ".py",
   "mimetype": "text/x-python",
   "name": "python",
   "nbconvert_exporter": "python",
   "pygments_lexer": "ipython3",
   "version": "3.8.3-final"
  }
 },
 "nbformat": 4,
 "nbformat_minor": 2
}