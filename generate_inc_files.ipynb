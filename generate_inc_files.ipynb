{
 "cells": [
  {
   "cell_type": "code",
   "execution_count": 93,
   "metadata": {},
   "outputs": [],
   "source": [
    "import pandas as pd\n",
    "import numpy as np\n",
    "\n",
    "from fill_and_map import map_econ_sdg, map_inds_sdg, fill_econ, fill_inds_trans"
   ]
  },
  {
   "cell_type": "code",
   "execution_count": 94,
   "metadata": {},
   "outputs": [],
   "source": [
    "# get data\n",
    "fpath = 'data_raw/SDG-DEA_indicators_V5_20200708.xlsx'\n",
    "inds = fill_inds_trans(fpath)\n",
    "inds_econ = fill_econ(fpath)\n",
    "inds_map = map_inds_sdg(fpath)\n",
    "econ_map = map_econ_sdg(fpath)"
   ]
  },
  {
   "cell_type": "code",
   "execution_count": 95,
   "metadata": {},
   "outputs": [],
   "source": [
    "# separate indicators which will be used as undesired outputs, or not be used at all\n",
    "use_inds = pd.read_excel('data_raw/use_inds.xlsx', usecols='A:D')\n",
    "skip_inds = use_inds['ind_name'][use_inds['use']=='no']\n",
    "undes_inds = use_inds['ind_name'][use_inds['issue']=='undesired']"
   ]
  },
  {
   "cell_type": "code",
   "execution_count": 96,
   "metadata": {},
   "outputs": [],
   "source": [
    "all_sdgs = range(1,18)\n",
    "\n",
    "# define set for countries\n",
    "set_c = ', '.join((inds.index))\n",
    "\n",
    "for sdg in all_sdgs:\n",
    "\n",
    "    # define sets for inputs and outputs\n",
    "    set_i = econ_map[sdg]\n",
    "    des_out = list(set(inds_map[sdg]) - set(undes_inds) - set(skip_inds)) # set operation to get desired outputs\n",
    "    undes_out = list(set(inds_map[sdg]) & set(undes_inds)) #  set operation to get undesired outputs\n",
    "\n",
    "    if len(des_out) > 0:\n",
    "        set_o = ', '.join(des_out)\n",
    "    else: # placeholder set if empty\n",
    "        set_o = 'dm'\n",
    "\n",
    "    if len(undes_out) > 0:\n",
    "        set_o_u = ', '.join(undes_out)\n",
    "    else: # placeholder set if empty\n",
    "        set_o_u = 'dm'\n",
    "\n",
    "    # write sets to .inc file\n",
    "    with open('data_input_to_gams/sets_sdg{0}.inc'.format(sdg), 'w') as text_file:\n",
    "        set_string = 'set c / {0} /;\\nset i / {1} /;\\nset o / {2} /;\\nset o_u / {3} /;'.format(set_c, set_i, set_o, set_o_u)\n",
    "        text_file.write(set_string)\n",
    "\n",
    "    # define parameters for inputs and outputs\n",
    "    # placeholder column to use if no outputs or undesired outputs exist for an SDG\n",
    "    dm = pd.DataFrame([1]*len(inds.index), index=inds.index, columns=['dm']) \n",
    "\n",
    "    # write inputs to .csv file\n",
    "    inds_econ.loc[:,[econ_map[sdg]]].to_csv('data_input_to_gams/inputs_sdg{0}.csv'.format(sdg))\n",
    "\n",
    "    # write outputs to .csv file\n",
    "    if len(des_out) > 0:\n",
    "        inds[des_out].to_csv('data_input_to_gams/outputs_sdg{0}.csv'.format(sdg))\n",
    "    else:\n",
    "        dm.to_csv('data_input_to_gams/outputs_sdg{0}.csv'.format(sdg))\n",
    "\n",
    "    # write undesired outputs to .csv file\n",
    "    if len(undes_out) > 0:\n",
    "        inds[undes_out].to_csv('data_input_to_gams/undes_outputs_sdg{0}.csv'.format(sdg))\n",
    "    else:\n",
    "        dm.to_csv('data_input_to_gams/undes_outputs_sdg{0}.csv'.format(sdg))"
   ]
  },
  {
   "cell_type": "code",
   "execution_count": null,
   "metadata": {},
   "outputs": [],
   "source": []
  }
 ],
 "metadata": {
  "kernelspec": {
   "display_name": "Python 3",
   "language": "python",
   "name": "python3"
  },
  "language_info": {
   "codemirror_mode": {
    "name": "ipython",
    "version": 3
   },
   "file_extension": ".py",
   "mimetype": "text/x-python",
   "name": "python",
   "nbconvert_exporter": "python",
   "pygments_lexer": "ipython3",
   "version": "3.7.4-final"
  }
 },
 "nbformat": 4,
 "nbformat_minor": 2
}