{
 "cells": [
  {
   "cell_type": "code",
   "execution_count": 31,
   "metadata": {},
   "outputs": [],
   "source": [
    "import pandas as pd\n",
    "import numpy as np\n",
    "from pathlib import Path\n",
    "\n",
    "# import own functions\n",
    "from fill_and_map import map_econ_sdg, map_inds_sdg, fill_econ, fill_inds_trans"
   ]
  },
  {
   "cell_type": "code",
   "execution_count": 48,
   "metadata": {},
   "outputs": [],
   "source": [
    "# get data\n",
    "fpath = Path('data_raw/SDG-DEA_indicators_V5_20200708.xlsx')\n",
    "inds = fill_inds_trans(fpath)\n",
    "inds_econ = fill_econ(fpath)\n",
    "inds_map = map_inds_sdg(fpath)\n",
    "econ_map = map_econ_sdg(fpath)\n",
    "\n",
    "# match index of economic indicators to SDG indicators, since some countries were exluded due to missing data\n",
    "inds_econ = inds_econ.loc[inds.index, :]"
   ]
  },
  {
   "cell_type": "code",
   "execution_count": 49,
   "metadata": {},
   "outputs": [],
   "source": [
    "# remove indicators we want to exclude from analysis\n",
    "drop_inds = ['sdg17_govex', 'sdg10_fsi7']\n",
    "inds = inds.drop(columns=drop_inds)\n",
    "inds_map = {k:[ii for ii in v if ii not in drop_inds] for k, v in inds_map.items()}"
   ]
  },
  {
   "cell_type": "code",
   "execution_count": 56,
   "metadata": {},
   "outputs": [
    {
     "output_type": "execute_result",
     "data": {
      "text/plain": "      sdg1_wpc  sdg1_320pov  sdg1_11_13_affected  sdg2_undernsh  \\\nAFG  58.742400     34.19440            63.316473           69.7   \nAGO  79.590000     57.99000            95.363706           76.1   \nALB  99.730000     96.95000            98.626170           94.5   \nARE  99.574048     99.23619            99.998058           97.5   \nARG  99.360000     97.40000            99.298629           96.2   \n..         ...          ...                  ...            ...   \nVUT  88.830000     65.38000            92.638976           92.9   \nYEM  58.742400     34.19440            97.806622           65.6   \nZAF  75.470000     65.75000            94.014762           93.9   \nZMB  46.950000     28.44000            99.975388           55.5   \nZWE  58.742400     34.19440            28.941613           53.4   \n\n     sdg2_foodinsec  sdg2_stunting  sdg2_wasting  sdg2_obesity  sdg2_crlyld  \\\nAFG       45.694019          59.10          90.5           5.5       1.9817   \nAGO       59.216414          62.40          95.1           8.2       0.9347   \nALB       61.441369          76.90          90.6          21.7       4.7164   \nARE       90.514157          97.42          99.3          31.7      21.4874   \nARG       67.896269          91.80          98.8          28.3       5.0965   \n..              ...            ...           ...           ...          ...   \nVUT       59.216414          71.50          95.6          25.2       0.6125   \nYEM       35.117162          53.50          83.7          17.1       0.9953   \nZAF       48.923554          72.60          97.5          28.3       3.8095   \nZMB       59.216414          60.00          93.7           8.1       2.4180   \nZWE       35.117162          73.20          96.8          15.5       0.5800   \n\n     sdg2_nue  ...  sdg16_safe  sdg16_prs  sdg16_u5reg  sdg16_cpi  \\\nAFG  0.522790  ...   12.533762   3.680363         42.3       16.0   \nAGO  0.469079  ...   46.214709   2.424251         25.0       19.0   \nALB  0.425978  ...   65.933543   3.600127         98.6       36.0   \nARE  0.196645  ...   89.971806   5.857982        100.0       70.0   \nARG  1.056747  ...   39.313905   3.613972         99.5       40.0   \n..        ...  ...         ...        ...          ...        ...   \nVUT  0.523209  ...   59.072419   3.786170         43.4       46.0   \nYEM  0.562939  ...   52.217281   2.807062         30.7       14.0   \nZAF  0.685924  ...   31.476937   4.616207         85.0       43.0   \nZMB  0.498532  ...   41.391224   4.225066         11.3       35.0   \nZWE  0.348560  ...   48.725970   2.827831         43.5       22.0   \n\n     sdg16_weaponsexp  sdg16_rsf  sdg17_taxhaven  sdg9_intuse  \\\nAFG          0.000000      62.72               0    11.447688   \nAGO          0.000000      61.65               0    14.339079   \nALB          0.000000      70.51               0    71.847041   \nARE          0.680841      59.14               0    94.819923   \nARG          0.000000      73.95               0    75.809744   \n..                ...        ...             ...          ...   \nVUT          0.000000      59.47               0    25.719788   \nYEM          0.000000      37.77               0    26.718355   \nZAF          0.125888      79.61               0    56.167394   \nZMB          0.000000      64.64               0    27.852579   \nZWE          0.000000      59.47               0    27.055488   \n\n     sdg17_govrevGDP  sdg17_remittance  \nAFG        12.185672         95.850087  \nAGO        16.360591         99.998507  \nALB        25.722581         90.344579  \nARE         3.566406         99.109451  \nARG        19.365190         99.900772  \n..               ...               ...  \nVUT        24.157366         96.148025  \nYEM        16.297863         87.551274  \nZAF        30.881298         99.747741  \nZMB        16.851228         99.599681  \nZWE        16.854658         94.012891  \n\n[156 rows x 100 columns]",
      "text/html": "<div>\n<style scoped>\n    .dataframe tbody tr th:only-of-type {\n        vertical-align: middle;\n    }\n\n    .dataframe tbody tr th {\n        vertical-align: top;\n    }\n\n    .dataframe thead th {\n        text-align: right;\n    }\n</style>\n<table border=\"1\" class=\"dataframe\">\n  <thead>\n    <tr style=\"text-align: right;\">\n      <th></th>\n      <th>sdg1_wpc</th>\n      <th>sdg1_320pov</th>\n      <th>sdg1_11_13_affected</th>\n      <th>sdg2_undernsh</th>\n      <th>sdg2_foodinsec</th>\n      <th>sdg2_stunting</th>\n      <th>sdg2_wasting</th>\n      <th>sdg2_obesity</th>\n      <th>sdg2_crlyld</th>\n      <th>sdg2_nue</th>\n      <th>...</th>\n      <th>sdg16_safe</th>\n      <th>sdg16_prs</th>\n      <th>sdg16_u5reg</th>\n      <th>sdg16_cpi</th>\n      <th>sdg16_weaponsexp</th>\n      <th>sdg16_rsf</th>\n      <th>sdg17_taxhaven</th>\n      <th>sdg9_intuse</th>\n      <th>sdg17_govrevGDP</th>\n      <th>sdg17_remittance</th>\n    </tr>\n  </thead>\n  <tbody>\n    <tr>\n      <th>AFG</th>\n      <td>58.742400</td>\n      <td>34.19440</td>\n      <td>63.316473</td>\n      <td>69.7</td>\n      <td>45.694019</td>\n      <td>59.10</td>\n      <td>90.5</td>\n      <td>5.5</td>\n      <td>1.9817</td>\n      <td>0.522790</td>\n      <td>...</td>\n      <td>12.533762</td>\n      <td>3.680363</td>\n      <td>42.3</td>\n      <td>16.0</td>\n      <td>0.000000</td>\n      <td>62.72</td>\n      <td>0</td>\n      <td>11.447688</td>\n      <td>12.185672</td>\n      <td>95.850087</td>\n    </tr>\n    <tr>\n      <th>AGO</th>\n      <td>79.590000</td>\n      <td>57.99000</td>\n      <td>95.363706</td>\n      <td>76.1</td>\n      <td>59.216414</td>\n      <td>62.40</td>\n      <td>95.1</td>\n      <td>8.2</td>\n      <td>0.9347</td>\n      <td>0.469079</td>\n      <td>...</td>\n      <td>46.214709</td>\n      <td>2.424251</td>\n      <td>25.0</td>\n      <td>19.0</td>\n      <td>0.000000</td>\n      <td>61.65</td>\n      <td>0</td>\n      <td>14.339079</td>\n      <td>16.360591</td>\n      <td>99.998507</td>\n    </tr>\n    <tr>\n      <th>ALB</th>\n      <td>99.730000</td>\n      <td>96.95000</td>\n      <td>98.626170</td>\n      <td>94.5</td>\n      <td>61.441369</td>\n      <td>76.90</td>\n      <td>90.6</td>\n      <td>21.7</td>\n      <td>4.7164</td>\n      <td>0.425978</td>\n      <td>...</td>\n      <td>65.933543</td>\n      <td>3.600127</td>\n      <td>98.6</td>\n      <td>36.0</td>\n      <td>0.000000</td>\n      <td>70.51</td>\n      <td>0</td>\n      <td>71.847041</td>\n      <td>25.722581</td>\n      <td>90.344579</td>\n    </tr>\n    <tr>\n      <th>ARE</th>\n      <td>99.574048</td>\n      <td>99.23619</td>\n      <td>99.998058</td>\n      <td>97.5</td>\n      <td>90.514157</td>\n      <td>97.42</td>\n      <td>99.3</td>\n      <td>31.7</td>\n      <td>21.4874</td>\n      <td>0.196645</td>\n      <td>...</td>\n      <td>89.971806</td>\n      <td>5.857982</td>\n      <td>100.0</td>\n      <td>70.0</td>\n      <td>0.680841</td>\n      <td>59.14</td>\n      <td>0</td>\n      <td>94.819923</td>\n      <td>3.566406</td>\n      <td>99.109451</td>\n    </tr>\n    <tr>\n      <th>ARG</th>\n      <td>99.360000</td>\n      <td>97.40000</td>\n      <td>99.298629</td>\n      <td>96.2</td>\n      <td>67.896269</td>\n      <td>91.80</td>\n      <td>98.8</td>\n      <td>28.3</td>\n      <td>5.0965</td>\n      <td>1.056747</td>\n      <td>...</td>\n      <td>39.313905</td>\n      <td>3.613972</td>\n      <td>99.5</td>\n      <td>40.0</td>\n      <td>0.000000</td>\n      <td>73.95</td>\n      <td>0</td>\n      <td>75.809744</td>\n      <td>19.365190</td>\n      <td>99.900772</td>\n    </tr>\n    <tr>\n      <th>...</th>\n      <td>...</td>\n      <td>...</td>\n      <td>...</td>\n      <td>...</td>\n      <td>...</td>\n      <td>...</td>\n      <td>...</td>\n      <td>...</td>\n      <td>...</td>\n      <td>...</td>\n      <td>...</td>\n      <td>...</td>\n      <td>...</td>\n      <td>...</td>\n      <td>...</td>\n      <td>...</td>\n      <td>...</td>\n      <td>...</td>\n      <td>...</td>\n      <td>...</td>\n      <td>...</td>\n    </tr>\n    <tr>\n      <th>VUT</th>\n      <td>88.830000</td>\n      <td>65.38000</td>\n      <td>92.638976</td>\n      <td>92.9</td>\n      <td>59.216414</td>\n      <td>71.50</td>\n      <td>95.6</td>\n      <td>25.2</td>\n      <td>0.6125</td>\n      <td>0.523209</td>\n      <td>...</td>\n      <td>59.072419</td>\n      <td>3.786170</td>\n      <td>43.4</td>\n      <td>46.0</td>\n      <td>0.000000</td>\n      <td>59.47</td>\n      <td>0</td>\n      <td>25.719788</td>\n      <td>24.157366</td>\n      <td>96.148025</td>\n    </tr>\n    <tr>\n      <th>YEM</th>\n      <td>58.742400</td>\n      <td>34.19440</td>\n      <td>97.806622</td>\n      <td>65.6</td>\n      <td>35.117162</td>\n      <td>53.50</td>\n      <td>83.7</td>\n      <td>17.1</td>\n      <td>0.9953</td>\n      <td>0.562939</td>\n      <td>...</td>\n      <td>52.217281</td>\n      <td>2.807062</td>\n      <td>30.7</td>\n      <td>14.0</td>\n      <td>0.000000</td>\n      <td>37.77</td>\n      <td>0</td>\n      <td>26.718355</td>\n      <td>16.297863</td>\n      <td>87.551274</td>\n    </tr>\n    <tr>\n      <th>ZAF</th>\n      <td>75.470000</td>\n      <td>65.75000</td>\n      <td>94.014762</td>\n      <td>93.9</td>\n      <td>48.923554</td>\n      <td>72.60</td>\n      <td>97.5</td>\n      <td>28.3</td>\n      <td>3.8095</td>\n      <td>0.685924</td>\n      <td>...</td>\n      <td>31.476937</td>\n      <td>4.616207</td>\n      <td>85.0</td>\n      <td>43.0</td>\n      <td>0.125888</td>\n      <td>79.61</td>\n      <td>0</td>\n      <td>56.167394</td>\n      <td>30.881298</td>\n      <td>99.747741</td>\n    </tr>\n    <tr>\n      <th>ZMB</th>\n      <td>46.950000</td>\n      <td>28.44000</td>\n      <td>99.975388</td>\n      <td>55.5</td>\n      <td>59.216414</td>\n      <td>60.00</td>\n      <td>93.7</td>\n      <td>8.1</td>\n      <td>2.4180</td>\n      <td>0.498532</td>\n      <td>...</td>\n      <td>41.391224</td>\n      <td>4.225066</td>\n      <td>11.3</td>\n      <td>35.0</td>\n      <td>0.000000</td>\n      <td>64.64</td>\n      <td>0</td>\n      <td>27.852579</td>\n      <td>16.851228</td>\n      <td>99.599681</td>\n    </tr>\n    <tr>\n      <th>ZWE</th>\n      <td>58.742400</td>\n      <td>34.19440</td>\n      <td>28.941613</td>\n      <td>53.4</td>\n      <td>35.117162</td>\n      <td>73.20</td>\n      <td>96.8</td>\n      <td>15.5</td>\n      <td>0.5800</td>\n      <td>0.348560</td>\n      <td>...</td>\n      <td>48.725970</td>\n      <td>2.827831</td>\n      <td>43.5</td>\n      <td>22.0</td>\n      <td>0.000000</td>\n      <td>59.47</td>\n      <td>0</td>\n      <td>27.055488</td>\n      <td>16.854658</td>\n      <td>94.012891</td>\n    </tr>\n  </tbody>\n</table>\n<p>156 rows × 100 columns</p>\n</div>"
     },
     "metadata": {},
     "execution_count": 56
    }
   ],
   "source": [
    "inds"
   ]
  },
  {
   "cell_type": "code",
   "execution_count": 52,
   "metadata": {},
   "outputs": [],
   "source": [
    "# updated SDG - COFOC expenditure mapping for all countries, manual mapping:\n",
    "econ_map[2].extend(['Expenditure_on_social_protection'])\n",
    "econ_map[4] = ['Expenditure_on_education']\n",
    "econ_map[5].extend(['Rest_of_COFOG_not_defined'])\n",
    "econ_map[9] = ['Rest_of_COFOG_not_defined']\n",
    "econ_map[10].extend(['Rest_of_COFOG_not_defined', 'Expenditure_on_education'])"
   ]
  },
  {
   "cell_type": "code",
   "execution_count": 35,
   "metadata": {},
   "outputs": [],
   "source": [
    "# # alternative economic indicators for countries with more complete data\n",
    "# inds_econ_alt = pd.read_csv(Path('data_raw/econ_alt.csv'), index_col=[0])\n",
    "# inds_econ_alt.insert(0, inds_econ.columns[0],inds_econ.iloc[:,0])\n",
    "# inds_econ = inds_econ_alt\n",
    "\n",
    "# # updated SDG - COFOG expenditure mapping for countries with more complete data\n",
    "# econ_map[2].extend(['Expenditure_on_social_protection'])\n",
    "# econ_map[4] = ['Expenditure_on_education']\n",
    "# econ_map[5] = ['Expenditure_on_economic_affairs', 'Expenditure_on_social_protection']\n",
    "# econ_map[6] = ['Expenditure_on_environment_protection', 'Expenditure_on_housing__community_amenities']\n",
    "# econ_map[7] = ['Expenditure_on_economic_affairs']\n",
    "# econ_map[8] = ['Expenditure_on_economic_affairs']\n",
    "# econ_map[9] = ['Expenditure_on_economic_affairs']\n",
    "# econ_map[10] = ['Expenditure_on_general_public_services', 'Expenditure_on_defense', 'Expenditure_on_public_order__safety', 'Expenditure_on_education', 'Expenditure_on_social_protection']\n",
    "# econ_map[11] = ['Expenditure_on_public_order__safety', 'Expenditure_on_housing__community_amenities', 'Expenditure_on_recreation_culture__religion']\n",
    "# econ_map[12] = ['Expenditure_on_economic_affairs', 'Expenditure_on_environment_protection']\n",
    "# econ_map[13] = ['Expenditure_on_economic_affairs', 'Expenditure_on_environment_protection']\n",
    "# econ_map[14] = ['Expenditure_on_economic_affairs', 'Expenditure_on_environment_protection']\n",
    "# econ_map[15] = ['Expenditure_on_economic_affairs', 'Expenditure_on_environment_protection']\n",
    "# econ_map[16] = ['Expenditure_on_general_public_services', 'Expenditure_on_defense', 'Expenditure_on_public_order__safety']\n",
    "# econ_map[17] = ['Expenditure_on_general_public_services']"
   ]
  },
  {
   "cell_type": "code",
   "execution_count": 53,
   "metadata": {
    "tags": []
   },
   "outputs": [],
   "source": [
    "# shorten cofog names\n",
    "# in mapping...\n",
    "for key in econ_map:\n",
    "    newnames = []\n",
    "    for ii in econ_map[key]:    \n",
    "        if ii != 'Rest_of_COFOG_not_defined':\n",
    "            newnames.append(ii.split('_')[2])\n",
    "        else:\n",
    "            newnames.append(ii.split('_')[0].lower())\n",
    "    econ_map[key] = newnames\n",
    "\n",
    "# ... and in econ data\n",
    "inds_econ.columns = [inds_econ.columns[0], \n",
    "                    *[ii.split('_')[2] for ii in inds_econ.columns[1:-1]], \n",
    "                    inds_econ.columns[-1].split('_')[0].lower()]"
   ]
  },
  {
   "cell_type": "code",
   "execution_count": 54,
   "metadata": {},
   "outputs": [],
   "source": [
    "# separate indicators which will be used as undesired outputs, or not be used at all\n",
    "use_inds_path = Path('data_raw/use_inds.xlsx')\n",
    "use_inds = pd.read_excel(use_inds_path, usecols='A:D')\n",
    "use_inds = use_inds.drop(use_inds[use_inds['ind_name'].isin(drop_inds)].index) # drop indicators we excluded above\n",
    "skip_inds = use_inds['ind_name'][use_inds['use']=='no']\n",
    "undes_inds = use_inds['ind_name'][use_inds['issue']=='undesired']"
   ]
  },
  {
   "cell_type": "code",
   "execution_count": 55,
   "metadata": {},
   "outputs": [],
   "source": [
    "all_sdgs = range(1,18)\n",
    "gms_input_folder = Path('gams_data_input/')\n",
    "\n",
    "# define set for countries\n",
    "set_c = ', '.join((inds_econ.index))\n",
    "\n",
    "for sdg in all_sdgs:\n",
    "\n",
    "    # define sets for inputs and outputs\n",
    "    # set_i = econ_map[sdg]\n",
    "    set_i = '_'.join((econ_map[sdg])) # handle sum of multiple expenses as input\n",
    "    des_out = list(set(inds_map[sdg]) - set(undes_inds) - set(skip_inds)) # set operation to get desired outputs\n",
    "    undes_out = list(set(inds_map[sdg]) & set(undes_inds)) #  set operation to get undesired outputs\n",
    "\n",
    "    if len(des_out) > 0:\n",
    "        set_o = ', '.join(des_out)\n",
    "    else: # placeholder set if empty\n",
    "        set_o = 'dm'\n",
    "\n",
    "    if len(undes_out) > 0:\n",
    "        set_o_u = ', '.join(undes_out)\n",
    "    else: # placeholder set if empty\n",
    "        set_o_u = 'dm'\n",
    "\n",
    "    # write sets to .inc file\n",
    "    with open(gms_input_folder / 'sets_sdg{0}.inc'.format(sdg), 'w') as text_file:\n",
    "        set_string = 'set c / {0} /;\\nset i / {1} /;\\nset o / {2} /;\\nset o_u / {3} /;'.format(set_c, set_i, set_o, set_o_u)\n",
    "        text_file.write(set_string)\n",
    "\n",
    "    # define parameters for inputs and outputs\n",
    "    # placeholder column to use if no outputs or undesired outputs exist for an SDG\n",
    "    dm = pd.DataFrame([1]*len(inds_econ.index), index=inds_econ.index, columns=['dm']) \n",
    "\n",
    "    # write inputs to .csv file\n",
    "    # inds_econ.loc[:,[econ_map[sdg]]].to_csv(gms_input_folder / 'inputs_sdg{0}.csv'.format(sdg))\n",
    "    inds_econ[[*econ_map[sdg]]].sum(axis=1).to_csv(gms_input_folder / 'inputs_sdg{0}.csv'.format(sdg), header=[set_i])\n",
    "\n",
    "    # write outputs to .csv file\n",
    "    if len(des_out) > 0:\n",
    "        inds.loc[inds_econ.index,des_out].to_csv(gms_input_folder / 'outputs_sdg{0}.csv'.format(sdg))\n",
    "    else:\n",
    "        dm.to_csv(gms_input_folder / 'outputs_sdg{0}.csv'.format(sdg))\n",
    "\n",
    "    # write undesired outputs to .csv file\n",
    "    if len(undes_out) > 0:\n",
    "        inds.loc[inds_econ.index,undes_out].to_csv(gms_input_folder / 'undes_outputs_sdg{0}.csv'.format(sdg))\n",
    "    else:\n",
    "        dm.to_csv(gms_input_folder / 'undes_outputs_sdg{0}.csv'.format(sdg))"
   ]
  },
  {
   "cell_type": "code",
   "execution_count": null,
   "metadata": {},
   "outputs": [],
   "source": [
    "# sdg = 4\n",
    "# set_i = '_and_'.join((econ_map[sdg]))\n",
    "# sdg = 5\n",
    "# inds_econ[[*econ_map[sdg]]].sum(axis=1)"
   ]
  }
 ],
 "metadata": {
  "kernelspec": {
   "display_name": "Python 3",
   "language": "python",
   "name": "python3"
  },
  "language_info": {
   "codemirror_mode": {
    "name": "ipython",
    "version": 3
   },
   "file_extension": ".py",
   "mimetype": "text/x-python",
   "name": "python",
   "nbconvert_exporter": "python",
   "pygments_lexer": "ipython3",
   "version": "3.7.4-final"
  }
 },
 "nbformat": 4,
 "nbformat_minor": 2
}