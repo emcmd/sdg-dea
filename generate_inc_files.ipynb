{
 "cells": [
  {
   "cell_type": "code",
   "execution_count": 48,
   "metadata": {},
   "outputs": [],
   "source": [
    "import pandas as pd\n",
    "import numpy as np\n",
    "\n",
    "from fill_and_map import map_econ_sdg, map_inds_sdg, fill_econ, fill_inds_trans"
   ]
  },
  {
   "cell_type": "code",
   "execution_count": 49,
   "metadata": {},
   "outputs": [],
   "source": [
    "# get data\n",
    "\n",
    "fpath = 'data_raw/SDG-DEA_indicators_V5_20200708.xlsx'\n",
    "inds = fill_inds_trans(fpath)\n",
    "inds_econ = fill_econ(fpath)\n",
    "inds_map = map_inds_sdg(fpath)\n",
    "econ_map = map_econ_sdg(fpath)"
   ]
  },
  {
   "cell_type": "code",
   "execution_count": 71,
   "metadata": {},
   "outputs": [],
   "source": [
    "# get indicators which will be used as undesired outputs, or not be used at all\n",
    "use_inds = pd.read_excel('data_raw/use_inds.xlsx', usecols='A:D')\n",
    "skip_inds = use_inds['ind_name'][use_inds['use']=='no']\n",
    "undes_inds = use_inds['ind_name'][use_inds['issue']=='undesired']\n"
   ]
  },
  {
   "cell_type": "code",
   "execution_count": 88,
   "metadata": {},
   "outputs": [],
   "source": [
    "sdg = 2\n",
    "\n",
    "# define sets for countries, inputs, and outputs\n",
    "set_c = ', '.join((inds.index))\n",
    "set_i = econ_map[sdg]\n",
    "set_o = ', '.join((set(inds_map[sdg]) - set(undes_inds))) # set operation to get desired outputs\n",
    "set_o_u = ', '.join((set(inds_map[sdg]) & set(undes_inds))) # set operation to get undesired outputs\n",
    "\n",
    "# # define parameters for inputs and outputs\n",
    "# par_input\n",
    "\n",
    "# write sets to .inc file\n",
    "with open(r\"data_input_to_gams/test.inc\", \"w\") as text_file:\n",
    "    text_file.write(\" set c / {0} /;\\n set i / {1} /;\\n set o / {2} /;\\n set o_u / {3} /;\".format(set_c, set_i, set_o, set_o_u))\n",
    "\n"
   ]
  },
  {
   "cell_type": "code",
   "execution_count": null,
   "metadata": {},
   "outputs": [],
   "source": []
  },
  {
   "cell_type": "code",
   "execution_count": null,
   "metadata": {},
   "outputs": [],
   "source": []
  },
  {
   "cell_type": "code",
   "execution_count": null,
   "metadata": {},
   "outputs": [],
   "source": []
  },
  {
   "cell_type": "code",
   "execution_count": 390,
   "metadata": {
    "collapsed": true
   },
   "outputs": [
    {
     "name": "stdout",
     "output_type": "stream",
     "text": [
      "Index(['sdg1_wpc', 'sdg1_320pov', 'sdg1_11_13_affected', 'sdg2_undernsh',\n",
      "       'sdg2_stunting', 'sdg2_wasting', 'sdg2_obesity', 'sdg2_nue',\n",
      "       'sdg2_trophic', 'sdg3_matmort', 'sdg3_neonat', 'sdg3_u5mort', 'sdg3_tb',\n",
      "       'sdg3_malaria', 'sdg3_hiv', 'sdg3_ncds', 'sdg3_suicide', 'sdg3_alcohol',\n",
      "       'sdg3_pollmort', 'sdg3_traffic', 'sdg3_fertility', 'sdg6_freshwat',\n",
      "       'sdg6_gwd', 'sdg7_enerintensity', 'sdg7_co2twh', 'sdg8_slavery',\n",
      "       'sdg16_clabor', 'sdg8_unemp', 'sdg8_impacc', 'sdg10_adjgini',\n",
      "       'sdg10_fsi3', 'sdg10_fsi4', 'sdg10_fsi7', 'sdg10_refugees',\n",
      "       'sdg11_pm25', 'sdg1_11_13_affected.1', 'sdg12_msw', 'sdg12_ewaste',\n",
      "       'sdg12_prodso2', 'sdg12_so2', 'sdg12_prodnitro', 'sdg12_reacnitro',\n",
      "       'sdg13_co2pc', 'sdg13_co2import', 'sdg13_affected',\n",
      "       'sdg1_11_13_affected.2', 'sdg13_co2export', 'sdg14_fishstocks',\n",
      "       'sdg14_trawl', 'sdg15_forchg', 'sdg15_impbiothr', 'sdg16_homicides',\n",
      "       'sdg16_detain', 'sdg16_weaponsexp', 'sdg16_rsf', 'sdg17_taxhaven',\n",
      "       'sdg17_remittance'],\n",
      "      dtype='object')\n",
      "Index(['sdg17_govex', 'sdg2_crlyld', 'sdg3_lifee', 'sdg3_births', 'sdg3_vac',\n",
      "       'sdg3_uhc', 'sdg3_swb', 'sdg4_primary', 'sdg4_second', 'sdg4_literacy',\n",
      "       'sdg5_familypl', 'sdg5_edat', 'sdg5_lfpr', 'sdg5_parl', 'sdg6_water',\n",
      "       'sdg6_sanita', 'sdg6_wastewat', 'sdg7_elecac', 'sdg7_cleanfuel',\n",
      "       'sdg7_renew', 'sdg8_adjgrowth', 'sdg8_accounts', 'sdg9_mobuse',\n",
      "       'sdg9_lpi', 'sdg9_qs', 'sdg9_articles', 'sdg9_rdex', 'sdg10_fsi2',\n",
      "       'sdg10_fsi5', 'sdg10_fsi6', 'sdg11_pipedwat', 'sdg11_transport',\n",
      "       'sdg14_cpma', 'sdg14_cleanwat', 'sdg15_cpta', 'sdg15_cpfa',\n",
      "       'sdg15_redlist', 'sdg15_forest', 'sdg16_safe', 'sdg16_prs',\n",
      "       'sdg16_u5reg', 'sdg16_cpi', 'sdg9_intuse', 'sdg17_govrevGDP'],\n",
      "      dtype='object')\n"
     ]
    }
   ],
   "source": []
  }
 ],
 "metadata": {
  "kernelspec": {
   "display_name": "Python 3",
   "language": "python",
   "name": "python3"
  },
  "language_info": {
   "codemirror_mode": {
    "name": "ipython",
    "version": 3
   },
   "file_extension": ".py",
   "mimetype": "text/x-python",
   "name": "python",
   "nbconvert_exporter": "python",
   "pygments_lexer": "ipython3",
   "version": "3.7.4-final"
  }
 },
 "nbformat": 4,
 "nbformat_minor": 2
}