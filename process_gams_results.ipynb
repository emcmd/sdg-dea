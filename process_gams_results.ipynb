{
 "cells": [
  {
   "cell_type": "code",
   "execution_count": 2,
   "metadata": {},
   "outputs": [],
   "source": [
    "import pandas as pd\n",
    "from pathlib import Path"
   ]
  },
  {
   "cell_type": "code",
   "execution_count": 11,
   "metadata": {},
   "outputs": [],
   "source": [
    "# number and names of sdgs to consider\n",
    "n_sdg = 17\n",
    "sdg_strings = [''.join(('sdg',str(ii))) for ii in range(1,n_sdg+1)]\n",
    "\n",
    "# path to gams outputs\n",
    "path = Path('gams_output_files')\n",
    "\n",
    "# read and concat dataframe with efficiency results\n",
    "eff_df = pd.concat((pd.read_csv(f, sep='\\t', index_col=0) for f in path.glob('*eff_res.csv')), axis=1)\n",
    "eff_df = eff_df[sdg_strings] # put them in order\n"
   ]
  },
  {
   "cell_type": "code",
   "execution_count": 12,
   "metadata": {},
   "outputs": [
    {
     "output_type": "execute_result",
     "data": {
      "text/plain": "        sdg10     sdg11     sdg12     sdg13     sdg14     sdg15     sdg16  \\\nAFG  0.914901  0.534164  0.991811  0.617400  0.577332  0.015416  0.455547   \nAGO  0.920857  0.638972  0.973859  0.664145  0.037055  0.608444  0.556264   \nALB  0.903706  0.903073  0.962793  0.668310  0.677143  1.000000  0.870399   \nAND  0.928005  0.922142  0.929175  0.666072  0.625177  0.582919  0.996926   \nARE  1.000000  0.935858  0.904217  0.675111  0.655315  0.611962  1.000000   \n..        ...       ...       ...       ...       ...       ...       ...   \nWSM  1.000000  0.862635  0.954853  1.000000  1.000000  0.631816  0.801517   \nYEM  0.964778  0.848107  0.994516  0.670142  1.000000  0.318510  0.648059   \nZAF  0.956120  0.899453  0.960616  0.659923  0.633870  0.617756  0.689847   \nZMB  1.000000  0.947952  1.000000  1.000000  0.542980  0.913897  0.505479   \nZWE  0.932082  1.000000  0.993361  0.476828  0.658200  1.000000  0.715825   \n\n        sdg17      sdg1      sdg2      sdg3      sdg4          sdg5  \\\nAFG  0.354708  0.492995  0.741688  0.880951  0.622674  4.487669e-01   \nAGO  1.000000  0.721210  0.579507  0.818742  0.413769  6.400820e-01   \nALB  0.735679  0.823293  0.640864  1.000000  0.954230  4.340395e-01   \nAND  1.000000  0.928144  0.979176  1.000000  0.929524  8.699354e-01   \nARE  0.244332  1.000000  1.000000  1.000000  0.873270  7.873770e-01   \n..        ...       ...       ...       ...       ...           ...   \nWSM  0.642469  1.000000  0.714223  1.000000  0.975153  4.735538e-01   \nYEM  0.581354  0.677866  0.415206  1.000000  0.742721  1.038000e-07   \nZAF  0.871940  0.818784  0.727790  0.856814  0.847982  9.367921e-01   \nZMB  0.925224  1.000000  0.786532  1.000000  0.751579  1.000000e+00   \nZWE  0.630870  0.495409  0.347052  0.861217  0.835260  1.000000e+00   \n\n             sdg6      sdg7          sdg8          sdg9  \nAFG  1.001000e-07  0.026500  7.036547e-01  1.549000e-07  \nAGO  2.152000e-07  0.140532  7.296341e-01  1.398000e-07  \nALB  5.662951e-01  0.673423  8.022003e-01  9.140000e-08  \nAND  1.000000e+00  0.384620  8.968594e-01  6.580000e-08  \nARE  6.981392e-01  0.086962  1.000000e+00  1.000000e+00  \n..            ...       ...           ...           ...  \nWSM  5.161827e-01  0.180690  8.120378e-01  1.133000e-07  \nYEM  1.042000e-07  0.051924  4.058000e-07  1.557000e-07  \nZAF  5.881610e-01  0.113768  7.877781e-01  5.767561e-01  \nZMB  7.370264e-01  0.223314  8.029564e-01  1.504000e-07  \nZWE  7.720367e-01  0.271671  1.000000e+00  1.466000e-07  \n\n[193 rows x 17 columns]",
      "text/html": "<div>\n<style scoped>\n    .dataframe tbody tr th:only-of-type {\n        vertical-align: middle;\n    }\n\n    .dataframe tbody tr th {\n        vertical-align: top;\n    }\n\n    .dataframe thead th {\n        text-align: right;\n    }\n</style>\n<table border=\"1\" class=\"dataframe\">\n  <thead>\n    <tr style=\"text-align: right;\">\n      <th></th>\n      <th>sdg10</th>\n      <th>sdg11</th>\n      <th>sdg12</th>\n      <th>sdg13</th>\n      <th>sdg14</th>\n      <th>sdg15</th>\n      <th>sdg16</th>\n      <th>sdg17</th>\n      <th>sdg1</th>\n      <th>sdg2</th>\n      <th>sdg3</th>\n      <th>sdg4</th>\n      <th>sdg5</th>\n      <th>sdg6</th>\n      <th>sdg7</th>\n      <th>sdg8</th>\n      <th>sdg9</th>\n    </tr>\n  </thead>\n  <tbody>\n    <tr>\n      <td>AFG</td>\n      <td>0.914901</td>\n      <td>0.534164</td>\n      <td>0.991811</td>\n      <td>0.617400</td>\n      <td>0.577332</td>\n      <td>0.015416</td>\n      <td>0.455547</td>\n      <td>0.354708</td>\n      <td>0.492995</td>\n      <td>0.741688</td>\n      <td>0.880951</td>\n      <td>0.622674</td>\n      <td>4.487669e-01</td>\n      <td>1.001000e-07</td>\n      <td>0.026500</td>\n      <td>7.036547e-01</td>\n      <td>1.549000e-07</td>\n    </tr>\n    <tr>\n      <td>AGO</td>\n      <td>0.920857</td>\n      <td>0.638972</td>\n      <td>0.973859</td>\n      <td>0.664145</td>\n      <td>0.037055</td>\n      <td>0.608444</td>\n      <td>0.556264</td>\n      <td>1.000000</td>\n      <td>0.721210</td>\n      <td>0.579507</td>\n      <td>0.818742</td>\n      <td>0.413769</td>\n      <td>6.400820e-01</td>\n      <td>2.152000e-07</td>\n      <td>0.140532</td>\n      <td>7.296341e-01</td>\n      <td>1.398000e-07</td>\n    </tr>\n    <tr>\n      <td>ALB</td>\n      <td>0.903706</td>\n      <td>0.903073</td>\n      <td>0.962793</td>\n      <td>0.668310</td>\n      <td>0.677143</td>\n      <td>1.000000</td>\n      <td>0.870399</td>\n      <td>0.735679</td>\n      <td>0.823293</td>\n      <td>0.640864</td>\n      <td>1.000000</td>\n      <td>0.954230</td>\n      <td>4.340395e-01</td>\n      <td>5.662951e-01</td>\n      <td>0.673423</td>\n      <td>8.022003e-01</td>\n      <td>9.140000e-08</td>\n    </tr>\n    <tr>\n      <td>AND</td>\n      <td>0.928005</td>\n      <td>0.922142</td>\n      <td>0.929175</td>\n      <td>0.666072</td>\n      <td>0.625177</td>\n      <td>0.582919</td>\n      <td>0.996926</td>\n      <td>1.000000</td>\n      <td>0.928144</td>\n      <td>0.979176</td>\n      <td>1.000000</td>\n      <td>0.929524</td>\n      <td>8.699354e-01</td>\n      <td>1.000000e+00</td>\n      <td>0.384620</td>\n      <td>8.968594e-01</td>\n      <td>6.580000e-08</td>\n    </tr>\n    <tr>\n      <td>ARE</td>\n      <td>1.000000</td>\n      <td>0.935858</td>\n      <td>0.904217</td>\n      <td>0.675111</td>\n      <td>0.655315</td>\n      <td>0.611962</td>\n      <td>1.000000</td>\n      <td>0.244332</td>\n      <td>1.000000</td>\n      <td>1.000000</td>\n      <td>1.000000</td>\n      <td>0.873270</td>\n      <td>7.873770e-01</td>\n      <td>6.981392e-01</td>\n      <td>0.086962</td>\n      <td>1.000000e+00</td>\n      <td>1.000000e+00</td>\n    </tr>\n    <tr>\n      <td>...</td>\n      <td>...</td>\n      <td>...</td>\n      <td>...</td>\n      <td>...</td>\n      <td>...</td>\n      <td>...</td>\n      <td>...</td>\n      <td>...</td>\n      <td>...</td>\n      <td>...</td>\n      <td>...</td>\n      <td>...</td>\n      <td>...</td>\n      <td>...</td>\n      <td>...</td>\n      <td>...</td>\n      <td>...</td>\n    </tr>\n    <tr>\n      <td>WSM</td>\n      <td>1.000000</td>\n      <td>0.862635</td>\n      <td>0.954853</td>\n      <td>1.000000</td>\n      <td>1.000000</td>\n      <td>0.631816</td>\n      <td>0.801517</td>\n      <td>0.642469</td>\n      <td>1.000000</td>\n      <td>0.714223</td>\n      <td>1.000000</td>\n      <td>0.975153</td>\n      <td>4.735538e-01</td>\n      <td>5.161827e-01</td>\n      <td>0.180690</td>\n      <td>8.120378e-01</td>\n      <td>1.133000e-07</td>\n    </tr>\n    <tr>\n      <td>YEM</td>\n      <td>0.964778</td>\n      <td>0.848107</td>\n      <td>0.994516</td>\n      <td>0.670142</td>\n      <td>1.000000</td>\n      <td>0.318510</td>\n      <td>0.648059</td>\n      <td>0.581354</td>\n      <td>0.677866</td>\n      <td>0.415206</td>\n      <td>1.000000</td>\n      <td>0.742721</td>\n      <td>1.038000e-07</td>\n      <td>1.042000e-07</td>\n      <td>0.051924</td>\n      <td>4.058000e-07</td>\n      <td>1.557000e-07</td>\n    </tr>\n    <tr>\n      <td>ZAF</td>\n      <td>0.956120</td>\n      <td>0.899453</td>\n      <td>0.960616</td>\n      <td>0.659923</td>\n      <td>0.633870</td>\n      <td>0.617756</td>\n      <td>0.689847</td>\n      <td>0.871940</td>\n      <td>0.818784</td>\n      <td>0.727790</td>\n      <td>0.856814</td>\n      <td>0.847982</td>\n      <td>9.367921e-01</td>\n      <td>5.881610e-01</td>\n      <td>0.113768</td>\n      <td>7.877781e-01</td>\n      <td>5.767561e-01</td>\n    </tr>\n    <tr>\n      <td>ZMB</td>\n      <td>1.000000</td>\n      <td>0.947952</td>\n      <td>1.000000</td>\n      <td>1.000000</td>\n      <td>0.542980</td>\n      <td>0.913897</td>\n      <td>0.505479</td>\n      <td>0.925224</td>\n      <td>1.000000</td>\n      <td>0.786532</td>\n      <td>1.000000</td>\n      <td>0.751579</td>\n      <td>1.000000e+00</td>\n      <td>7.370264e-01</td>\n      <td>0.223314</td>\n      <td>8.029564e-01</td>\n      <td>1.504000e-07</td>\n    </tr>\n    <tr>\n      <td>ZWE</td>\n      <td>0.932082</td>\n      <td>1.000000</td>\n      <td>0.993361</td>\n      <td>0.476828</td>\n      <td>0.658200</td>\n      <td>1.000000</td>\n      <td>0.715825</td>\n      <td>0.630870</td>\n      <td>0.495409</td>\n      <td>0.347052</td>\n      <td>0.861217</td>\n      <td>0.835260</td>\n      <td>1.000000e+00</td>\n      <td>7.720367e-01</td>\n      <td>0.271671</td>\n      <td>1.000000e+00</td>\n      <td>1.466000e-07</td>\n    </tr>\n  </tbody>\n</table>\n<p>193 rows × 17 columns</p>\n</div>"
     },
     "metadata": {},
     "execution_count": 12
    }
   ],
   "source": [
    "eff_df"
   ]
  },
  {
   "cell_type": "code",
   "execution_count": 6,
   "metadata": {},
   "outputs": [
    {
     "output_type": "execute_result",
     "data": {
      "text/plain": "         sdg1\nAFG  0.492995\nAGO  0.721210\nALB  0.823293\nAND  0.928144\nARE  1.000000\n..        ...\nWSM  1.000000\nYEM  0.677866\nZAF  0.818784\nZMB  1.000000\nZWE  0.495409\n\n[193 rows x 1 columns]",
      "text/html": "<div>\n<style scoped>\n    .dataframe tbody tr th:only-of-type {\n        vertical-align: middle;\n    }\n\n    .dataframe tbody tr th {\n        vertical-align: top;\n    }\n\n    .dataframe thead th {\n        text-align: right;\n    }\n</style>\n<table border=\"1\" class=\"dataframe\">\n  <thead>\n    <tr style=\"text-align: right;\">\n      <th></th>\n      <th>sdg1</th>\n    </tr>\n  </thead>\n  <tbody>\n    <tr>\n      <td>AFG</td>\n      <td>0.492995</td>\n    </tr>\n    <tr>\n      <td>AGO</td>\n      <td>0.721210</td>\n    </tr>\n    <tr>\n      <td>ALB</td>\n      <td>0.823293</td>\n    </tr>\n    <tr>\n      <td>AND</td>\n      <td>0.928144</td>\n    </tr>\n    <tr>\n      <td>ARE</td>\n      <td>1.000000</td>\n    </tr>\n    <tr>\n      <td>...</td>\n      <td>...</td>\n    </tr>\n    <tr>\n      <td>WSM</td>\n      <td>1.000000</td>\n    </tr>\n    <tr>\n      <td>YEM</td>\n      <td>0.677866</td>\n    </tr>\n    <tr>\n      <td>ZAF</td>\n      <td>0.818784</td>\n    </tr>\n    <tr>\n      <td>ZMB</td>\n      <td>1.000000</td>\n    </tr>\n    <tr>\n      <td>ZWE</td>\n      <td>0.495409</td>\n    </tr>\n  </tbody>\n</table>\n<p>193 rows × 1 columns</p>\n</div>"
     },
     "metadata": {},
     "execution_count": 6
    }
   ],
   "source": [
    "pd.read_csv(Path('gams_output_files/sdg1_eff_res.csv'), sep='\\t', index_col=0)"
   ]
  },
  {
   "cell_type": "code",
   "execution_count": null,
   "metadata": {},
   "outputs": [],
   "source": []
  },
  {
   "cell_type": "code",
   "execution_count": null,
   "metadata": {},
   "outputs": [],
   "source": []
  },
  {
   "cell_type": "code",
   "execution_count": null,
   "metadata": {},
   "outputs": [],
   "source": [
    "# old below ======================================================="
   ]
  },
  {
   "cell_type": "code",
   "execution_count": null,
   "metadata": {},
   "outputs": [],
   "source": [
    "import glob as glob\n",
    "import pandas as pd\n",
    "\n",
    "# number of sdgs to consider\n",
    "n_sdg = 17\n",
    "sdg_strings = [''.join(('sdg',str(ii))) for ii in range(1,n_sdg+1)]"
   ]
  },
  {
   "cell_type": "code",
   "execution_count": null,
   "metadata": {},
   "outputs": [],
   "source": [
    "# read and concat efficiency results\n",
    "path = r'output_files' # path to files\n",
    "eff_files = sorted(glob.glob(path + \"/*eff_res.csv\")) # efficiency result files\n",
    "eff_df = pd.concat((pd.read_csv(f, sep='\\t', index_col=0) for f in eff_files), axis=1) # read and concat\n",
    "eff_df = eff_df[sdg_strings] # put them in order"
   ]
  },
  {
   "cell_type": "code",
   "execution_count": null,
   "metadata": {},
   "outputs": [],
   "source": [
    "import seaborn as sns; sns.set()\n",
    "import matplotlib.pyplot as plt\n",
    "import matplotlib as mpl\n",
    "import numpy as np\n",
    "\n",
    "fig, axes = plt.subplots(1,2, figsize=(10,20))\n",
    "\n",
    "norm = mpl.colors.Normalize(vmin=0,vmax=1)\n",
    "sm = plt.cm.ScalarMappable(cmap='Greens', norm=norm)\n",
    "\n",
    "sns.heatmap(eff_df.iloc[0:int(eff_df.shape[0]/2),:], cmap='Greens', cbar=False, ax=axes[0])\n",
    "sns.heatmap(eff_df.iloc[int(eff_df.shape[0]/2)::,:], cmap='Greens', cbar=False, ax=axes[1])\n",
    "\n",
    "plt.draw()\n",
    "p0 = axes[0].get_position().get_points().flatten()\n",
    "p1 = axes[1].get_position().get_points().flatten()\n",
    "ax_cbar = fig.add_axes([p0[0], p0[3]+0.03, p1[2]-p0[0], 0.02])\n",
    "plt.colorbar(sm, cax=ax_cbar, orientation='horizontal')\n",
    "plt.savefig('eff_heatmap.jpg', dpi=600)\n",
    "plt.title('Efficiency',fontsize=24)\n",
    "plt.show()"
   ]
  },
  {
   "cell_type": "code",
   "execution_count": null,
   "metadata": {},
   "outputs": [],
   "source": [
    "eff_df = pd.read_csv('eff_out.csv', index_col=0)\n",
    "\n",
    "fig = plt.figure(figsize=(8,20))\n",
    "\n",
    "for ii,c in enumerate(eff_df.columns):\n",
    "    ax = fig.add_subplot(6,3,ii+1)\n",
    "    ax.hist(eff_df[c])\n",
    "#     ax.set_ylim(0,150)\n",
    "#     ax.set_xlim(0,1)\n",
    "    ax.set_title(' '.join(('SDG',str(ii+1))), pad=-20)\n",
    "\n",
    "# for ax in fig.get_axes():\n",
    "#     ax.label_outer()\n",
    "\n",
    "fig.tight_layout()\n",
    "plt.savefig('eff_hist.jpg', dpi=600)\n",
    "plt.show()"
   ]
  }
 ],
 "metadata": {
  "language_info": {
   "codemirror_mode": {
    "name": "ipython",
    "version": 3
   },
   "file_extension": ".py",
   "mimetype": "text/x-python",
   "name": "python",
   "nbconvert_exporter": "python",
   "pygments_lexer": "ipython3",
   "version": "3.7.4-final"
  },
  "orig_nbformat": 2,
  "kernelspec": {
   "name": "python3",
   "display_name": "Python 3"
  }
 },
 "nbformat": 4,
 "nbformat_minor": 2
}